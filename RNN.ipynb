{
  "nbformat": 4,
  "nbformat_minor": 0,
  "metadata": {
    "colab": {
      "name": "Untitled28.ipynb",
      "provenance": [],
      "collapsed_sections": []
    },
    "kernelspec": {
      "name": "python3",
      "display_name": "Python 3"
    },
    "language_info": {
      "name": "python"
    }
  },
  "cells": [
    {
      "cell_type": "code",
      "metadata": {
        "colab": {
          "base_uri": "https://localhost:8080/"
        },
        "id": "Maysr0RqegPU",
        "outputId": "3488f0ca-5102-41e9-ec4a-d68c5f29de6b"
      },
      "source": [
        "# 基本のライブラリを読み込む\n",
        "import numpy as np\n",
        "import pandas as pd\n",
        "\n",
        "# グラフ描画\n",
        "from matplotlib import pylab as plt\n",
        "%matplotlib inline\n",
        "\n",
        "# グラフを横長にする\n",
        "from matplotlib.pylab import rcParams\n",
        "rcParams['figure.figsize'] = 15, 6\n",
        "\n",
        "# Googleドライブのマウント\n",
        "from google.colab import drive\n",
        "drive.mount('/content/drive')"
      ],
      "execution_count": 1,
      "outputs": [
        {
          "output_type": "stream",
          "text": [
            "Mounted at /content/drive\n"
          ],
          "name": "stdout"
        }
      ]
    },
    {
      "cell_type": "code",
      "metadata": {
        "colab": {
          "base_uri": "https://localhost:8080/",
          "height": 206
        },
        "id": "rsX3LLJPfSPZ",
        "outputId": "2af467bd-34d8-45b6-8740-4bd096237bea"
      },
      "source": [
        "filepath = 'drive/My Drive/Colab Notebooks/AirPassengers.csv'\n",
        "data = pd.read_csv(filepath)\n",
        "data.head()"
      ],
      "execution_count": 2,
      "outputs": [
        {
          "output_type": "execute_result",
          "data": {
            "text/html": [
              "<div>\n",
              "<style scoped>\n",
              "    .dataframe tbody tr th:only-of-type {\n",
              "        vertical-align: middle;\n",
              "    }\n",
              "\n",
              "    .dataframe tbody tr th {\n",
              "        vertical-align: top;\n",
              "    }\n",
              "\n",
              "    .dataframe thead th {\n",
              "        text-align: right;\n",
              "    }\n",
              "</style>\n",
              "<table border=\"1\" class=\"dataframe\">\n",
              "  <thead>\n",
              "    <tr style=\"text-align: right;\">\n",
              "      <th></th>\n",
              "      <th>Month</th>\n",
              "      <th>#Passengers</th>\n",
              "    </tr>\n",
              "  </thead>\n",
              "  <tbody>\n",
              "    <tr>\n",
              "      <th>0</th>\n",
              "      <td>1949-01</td>\n",
              "      <td>112</td>\n",
              "    </tr>\n",
              "    <tr>\n",
              "      <th>1</th>\n",
              "      <td>1949-02</td>\n",
              "      <td>118</td>\n",
              "    </tr>\n",
              "    <tr>\n",
              "      <th>2</th>\n",
              "      <td>1949-03</td>\n",
              "      <td>132</td>\n",
              "    </tr>\n",
              "    <tr>\n",
              "      <th>3</th>\n",
              "      <td>1949-04</td>\n",
              "      <td>129</td>\n",
              "    </tr>\n",
              "    <tr>\n",
              "      <th>4</th>\n",
              "      <td>1949-05</td>\n",
              "      <td>121</td>\n",
              "    </tr>\n",
              "  </tbody>\n",
              "</table>\n",
              "</div>"
            ],
            "text/plain": [
              "     Month  #Passengers\n",
              "0  1949-01          112\n",
              "1  1949-02          118\n",
              "2  1949-03          132\n",
              "3  1949-04          129\n",
              "4  1949-05          121"
            ]
          },
          "metadata": {
            "tags": []
          },
          "execution_count": 2
        }
      ]
    },
    {
      "cell_type": "code",
      "metadata": {
        "colab": {
          "base_uri": "https://localhost:8080/",
          "height": 352
        },
        "id": "ysR8-y5sfYby",
        "outputId": "1920ff11-c2b4-4e1d-ee23-52196356655e"
      },
      "source": [
        "# 列名の変更\n",
        "data.columns = [\"Month\", \"Passengers\"]\n",
        "\n",
        "#概観の確認\n",
        "print(\"Missing data:\")\n",
        "print(\"  Month : \" ,data[\"Month\"].isnull().sum())\n",
        "print(\"  Passengers : \" ,data[\"Passengers\"].isnull().sum())\n",
        "data.describe()"
      ],
      "execution_count": 3,
      "outputs": [
        {
          "output_type": "stream",
          "text": [
            "Missing data:\n",
            "  Month :  0\n",
            "  Passengers :  0\n"
          ],
          "name": "stdout"
        },
        {
          "output_type": "execute_result",
          "data": {
            "text/html": [
              "<div>\n",
              "<style scoped>\n",
              "    .dataframe tbody tr th:only-of-type {\n",
              "        vertical-align: middle;\n",
              "    }\n",
              "\n",
              "    .dataframe tbody tr th {\n",
              "        vertical-align: top;\n",
              "    }\n",
              "\n",
              "    .dataframe thead th {\n",
              "        text-align: right;\n",
              "    }\n",
              "</style>\n",
              "<table border=\"1\" class=\"dataframe\">\n",
              "  <thead>\n",
              "    <tr style=\"text-align: right;\">\n",
              "      <th></th>\n",
              "      <th>Passengers</th>\n",
              "    </tr>\n",
              "  </thead>\n",
              "  <tbody>\n",
              "    <tr>\n",
              "      <th>count</th>\n",
              "      <td>144.000000</td>\n",
              "    </tr>\n",
              "    <tr>\n",
              "      <th>mean</th>\n",
              "      <td>280.298611</td>\n",
              "    </tr>\n",
              "    <tr>\n",
              "      <th>std</th>\n",
              "      <td>119.966317</td>\n",
              "    </tr>\n",
              "    <tr>\n",
              "      <th>min</th>\n",
              "      <td>104.000000</td>\n",
              "    </tr>\n",
              "    <tr>\n",
              "      <th>25%</th>\n",
              "      <td>180.000000</td>\n",
              "    </tr>\n",
              "    <tr>\n",
              "      <th>50%</th>\n",
              "      <td>265.500000</td>\n",
              "    </tr>\n",
              "    <tr>\n",
              "      <th>75%</th>\n",
              "      <td>360.500000</td>\n",
              "    </tr>\n",
              "    <tr>\n",
              "      <th>max</th>\n",
              "      <td>622.000000</td>\n",
              "    </tr>\n",
              "  </tbody>\n",
              "</table>\n",
              "</div>"
            ],
            "text/plain": [
              "       Passengers\n",
              "count  144.000000\n",
              "mean   280.298611\n",
              "std    119.966317\n",
              "min    104.000000\n",
              "25%    180.000000\n",
              "50%    265.500000\n",
              "75%    360.500000\n",
              "max    622.000000"
            ]
          },
          "metadata": {
            "tags": []
          },
          "execution_count": 3
        }
      ]
    },
    {
      "cell_type": "code",
      "metadata": {
        "colab": {
          "base_uri": "https://localhost:8080/",
          "height": 265
        },
        "id": "oQyw9-Gdfb20",
        "outputId": "a25c69af-3841-4703-900a-ff90334aaed6"
      },
      "source": [
        "# データのプロット\n",
        "plt.plot(data[\"Passengers\"])\n",
        "plt.xticks(np.arange(0, 145, 12)) # 12ヶ月ごとにグリッド線を表示\n",
        "plt.grid()\n",
        "plt.show()"
      ],
      "execution_count": 4,
      "outputs": [
        {
          "output_type": "display_data",
          "data": {
            "image/png": "[encoded data removed]",
            "text/plain": [
              "<Figure size 432x288 with 1 Axes>"
            ]
          },
          "metadata": {
            "tags": [],
            "needs_background": "light"
          }
        }
      ]
    },
    {
      "cell_type": "code",
      "metadata": {
        "colab": {
          "base_uri": "https://localhost:8080/"
        },
        "id": "_JUiquZlffQ7",
        "outputId": "d68b17f2-fba1-4dc8-b832-8661500f58db"
      },
      "source": [
        "# Kerasに入力するための型へ変換\n",
        "input_data = data['Passengers'].values.astype(float)\n",
        "print(\"input_data : \" , input_data.shape ,type(input_data))\n",
        "\n",
        "# スケールの正規化\n",
        "norm_scale = input_data.max()\n",
        "input_data /= norm_scale\n",
        "print(input_data[0:5])"
      ],
      "execution_count": 5,
      "outputs": [
        {
          "output_type": "stream",
          "text": [
            "input_data :  (144,) <class 'numpy.ndarray'>\n",
            "[0.18006431 0.18971061 0.21221865 0.2073955  0.19453376]\n"
          ],
          "name": "stdout"
        }
      ]
    },
    {
      "cell_type": "code",
      "metadata": {
        "colab": {
          "base_uri": "https://localhost:8080/"
        },
        "id": "HfyXFK3LfjR_",
        "outputId": "10218f05-08e7-42ce-d8c7-2a561da50346"
      },
      "source": [
        "# 入力データと教師データの作成\n",
        "def make_dataset(low_data, maxlen):\n",
        "\n",
        "    data, target = [], []\n",
        "\n",
        "    for i in range(len(low_data)-maxlen):\n",
        "        data.append(low_data[i:i + maxlen])\n",
        "        target.append(low_data[i + maxlen])\n",
        "\n",
        "    re_data = np.array(data).reshape(len(data), maxlen, 1)\n",
        "    re_target = np.array(target).reshape(len(data), 1)\n",
        "\n",
        "    return re_data, re_target\n",
        "\n",
        "\n",
        "# RNNへの入力データ数\n",
        "window_size = 12\n",
        "\n",
        "# 入力データと教師データへの分割\n",
        "X, y = make_dataset(input_data, window_size)\n",
        "print(\"shape X : \" , X.shape)\n",
        "print(\"shape y: \" , y.shape)"
      ],
      "execution_count": 6,
      "outputs": [
        {
          "output_type": "stream",
          "text": [
            "shape X :  (132, 12, 1)\n",
            "shape y:  (132, 1)\n"
          ],
          "name": "stdout"
        }
      ]
    },
    {
      "cell_type": "code",
      "metadata": {
        "colab": {
          "base_uri": "https://localhost:8080/"
        },
        "id": "DJI3fpu8fmsx",
        "outputId": "40b070be-afb3-4ad8-ece2-d81d04648b85"
      },
      "source": [
        "# 学習データ / 検証データ分割\n",
        "\n",
        "split_rate = 0.7 # 学習データの割合\n",
        "train_size = int(len(X) * split_rate)\n",
        "\n",
        "X_train = X[:train_size]\n",
        "X_test = X[train_size:]\n",
        "y_train = y[:train_size]\n",
        "y_test = y[train_size:]\n",
        "\n",
        "print(\" train_size / test_size = \", train_size , \"/\" , len(X) - train_size)\n",
        "print('X_train:', X_train.shape)\n",
        "print('X_test :', X_test.shape)\n",
        "print('y_train:', y_train.shape)\n",
        "print('y_test :', y_test.shape)"
      ],
      "execution_count": 7,
      "outputs": [
        {
          "output_type": "stream",
          "text": [
            " train_size / test_size =  92 / 40\n",
            "X_train: (92, 12, 1)\n",
            "X_test : (40, 12, 1)\n",
            "y_train: (92, 1)\n",
            "y_test : (40, 1)\n"
          ],
          "name": "stdout"
        }
      ]
    },
    {
      "cell_type": "code",
      "metadata": {
        "colab": {
          "base_uri": "https://localhost:8080/"
        },
        "id": "3OIDyoiNfqAM",
        "outputId": "b142e2ad-1fe0-448f-e16d-0dec0ae1476f"
      },
      "source": [
        "# ライブラリのインポート\n",
        "import keras\n",
        "from keras.models import Sequential\n",
        "from keras.layers import Dense, Activation, LSTM\n",
        "from keras.optimizers import Adam\n",
        "import tensorflow as tf\n",
        "\n",
        "# ネットワークの構築\n",
        "lstm_model = Sequential() # Sequentialモデル\n",
        "lstm_model.add(LSTM(50, batch_input_shape=(None, window_size, 1))) # LSTM 50層\n",
        "lstm_model.add(Dense(1)) # 出力次元数は1\n",
        "\n",
        "#コンパイル\n",
        "lstm_model.compile(loss='mean_squared_error', optimizer=Adam() , metrics = ['accuracy'])\n",
        "lstm_model.summary()"
      ],
      "execution_count": 8,
      "outputs": [
        {
          "output_type": "stream",
          "text": [
            "Model: \"sequential\"\n",
            "_________________________________________________________________\n",
            "Layer (type)                 Output Shape              Param #   \n",
            "=================================================================\n",
            "lstm (LSTM)                  (None, 50)                10400     \n",
            "_________________________________________________________________\n",
            "dense (Dense)                (None, 1)                 51        \n",
            "=================================================================\n",
            "Total params: 10,451\n",
            "Trainable params: 10,451\n",
            "Non-trainable params: 0\n",
            "_________________________________________________________________\n"
          ],
          "name": "stdout"
        }
      ]
    },
    {
      "cell_type": "code",
      "metadata": {
        "colab": {
          "base_uri": "https://localhost:8080/",
          "height": 295
        },
        "id": "AHWuTK_Lft7n",
        "outputId": "f4e78e17-c867-45cf-82a6-419e1d10e658"
      },
      "source": [
        "# 学習用パラメータ\n",
        "batch_size = 20\n",
        "n_epoch = 150\n",
        "\n",
        "# 学習\n",
        "hist = lstm_model.fit(X_train, y_train,\n",
        "                 epochs=n_epoch,\n",
        "                 validation_data=(X_test, y_test),\n",
        "                 verbose=0,\n",
        "                 batch_size=batch_size)\n",
        "\n",
        "# 損失値(Loss)の遷移のプロット\n",
        "plt.plot(hist.history['loss'],label=\"train set\")\n",
        "plt.plot(hist.history['val_loss'],label=\"test set\")\n",
        "plt.title('model loss')\n",
        "plt.xlabel('epoch')\n",
        "plt.ylabel('loss')\n",
        "plt.legend()\n",
        "plt.show()"
      ],
      "execution_count": 10,
      "outputs": [
        {
          "output_type": "display_data",
          "data": {
            "image/png": "[encoded data removed]",
            "text/plain": [
              "<Figure size 432x288 with 1 Axes>"
            ]
          },
          "metadata": {
            "tags": [],
            "needs_background": "light"
          }
        }
      ]
    },
    {
      "cell_type": "code",
      "metadata": {
        "colab": {
          "base_uri": "https://localhost:8080/",
          "height": 317
        },
        "id": "6MsJHWADgMRP",
        "outputId": "6d5c539e-452f-4cb2-f4c7-9ed8faf935da"
      },
      "source": [
        "# 予測\n",
        "y_pred_train = lstm_model.predict(X_train) \n",
        "y_pred_test = lstm_model.predict(X_test) \n",
        "\n",
        "# RMSEで評価\n",
        "# 参考：https://deepage.net/deep_learning/2016/09/17/tflearn_rnn.html\n",
        "def rmse(y_pred, y_true):\n",
        "    return np.sqrt(((y_true - y_pred) ** 2).mean())\n",
        "print(\"RMSE Score\")\n",
        "print(\"  train : \" , rmse(y_pred_train, y_train))\n",
        "print(\"  test : \" , rmse(y_pred_test, y_test))\n",
        "\n",
        "# 推定結果のプロット\n",
        "plt.plot(X[:, 0, 0], color='blue',  label=\"observed\")  # 元データ\n",
        "plt.plot(y_pred_train, color='red',  label=\"train\")   # 予測値（学習）\n",
        "plt.plot(range(len(X_train),len(X_test)+len(X_train)),y_pred_test, color='green',  label=\"test\")   # 予測値（検証）\n",
        "plt.legend()\n",
        "plt.xticks(np.arange(0, 145, 12)) # 12ヶ月ごとにグリッド線を表示\n",
        "plt.grid()\n",
        "plt.show()"
      ],
      "execution_count": 11,
      "outputs": [
        {
          "output_type": "stream",
          "text": [
            "RMSE Score\n",
            "  train :  0.04952010083559354\n",
            "  test :  0.07280803982248116\n"
          ],
          "name": "stdout"
        },
        {
          "output_type": "display_data",
          "data": {
            "image/png": "[encoded data removed]",
            "text/plain": [
              "<Figure size 432x288 with 1 Axes>"
            ]
          },
          "metadata": {
            "tags": [],
            "needs_background": "light"
          }
        }
      ]
    },
    {
      "cell_type": "code",
      "metadata": {
        "colab": {
          "base_uri": "https://localhost:8080/",
          "height": 265
        },
        "id": "aPmRnfzigTN2",
        "outputId": "17342ccd-96b6-4c33-b240-b0cd87d569de"
      },
      "source": [
        "# 予測結果を保存する行列\n",
        "future_pred = X[:,0,0].copy()\n",
        "\n",
        "# 予測期間は観測値の終端から3年間を設定\n",
        "pred_time_length = 12*3\n",
        "\n",
        "for tmp in range(pred_time_length):\n",
        "  # 観測結果の最後尾から予測に使うデータをピックアップ\n",
        "  X_future_pred = future_pred[-1*window_size:]\n",
        "  # 予測\n",
        "  y_future_pred = lstm_model.predict( X_future_pred.reshape(1,window_size,1) )\n",
        "  # 予測値をfuture_predの最後尾に追加\n",
        "  future_pred = np.append(future_pred, y_future_pred)\n",
        "  #print(y_future_pred ,  future_pred[-5:])\n",
        "\n",
        "# プロット\n",
        "plt.plot(X[:,0,0] * norm_scale, color='blue',  label=\"observed\")  # 実測値\n",
        "plt.plot(range(len(X),len(X)+pred_time_length), future_pred[-1*pred_time_length:] * norm_scale,  color='red',  label=\"feature pred\")   # 予測値\n",
        "plt.legend()\n",
        "plt.xticks(np.arange(0, 145+pred_time_length, 12)) # 12ヶ月ごとにグリッド線を表示\n",
        "plt.grid()\n",
        "plt.show()"
      ],
      "execution_count": 12,
      "outputs": [
        {
          "output_type": "display_data",
          "data": {
            "image/png": "[encoded data removed]",
            "text/plain": [
              "<Figure size 432x288 with 1 Axes>"
            ]
          },
          "metadata": {
            "tags": [],
            "needs_background": "light"
          }
        }
      ]
    }
  ]
}