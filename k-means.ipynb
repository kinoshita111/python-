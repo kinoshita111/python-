{
  "nbformat": 4,
  "nbformat_minor": 0,
  "metadata": {
    "colab": {
      "name": "test.ipynb",
      "provenance": []
    },
    "kernelspec": {
      "name": "python3",
      "display_name": "Python 3"
    },
    "accelerator": "GPU"
  },
  "cells": [
    {
      "cell_type": "markdown",
      "metadata": {
        "id": "3zgQ37XPqXv_"
      },
      "source": [
        "# K-means法のテスト\n",
        "教師なし学習の、クラスタリング手法の方法の一つ。データ間の近さで分類をする。\n",
        "\n",
        "ここではライブラリを使った実装をする。\n",
        "データは3種類のアヤメのデータを集めたものを持ってくる。\n",
        "https://pythondatascience.plavox.info/scikit-learn/scikit-learn%E3%81%AB%E4%BB%98%E5%B1%9E%E3%81%97%E3%81%A6%E3%81%84%E3%82%8B%E3%83%87%E3%83%BC%E3%82%BF%E3%82%BB%E3%83%83%E3%83%88"
      ]
    },
    {
      "cell_type": "code",
      "metadata": {
        "id": "LBDwxxz-ELPM"
      },
      "source": [
        "#ライブラリを使った実装\n",
        "\n",
        "import matplotlib.pyplot as plt\n",
        "from sklearn import cluster\n",
        "from sklearn import datasets\n",
        "\n",
        "# iris データセットをロード\n",
        "iris = datasets.load_iris()\n",
        "data = iris['data']\n",
        "\n",
        "# k-means モデルの作成\n",
        "# クラスタ数を指定(3)\n",
        "model = cluster.KMeans(n_clusters=3)\n",
        "model.fit(data)\n",
        "\n",
        "# クラスタリング結果ラベルの取得\n",
        "labels = model.labels_\n",
        "\n",
        "# ---描画---\n",
        "# キャンバスを作成\n",
        "plt.figure(1)\n",
        "\n",
        "ldata = data[labels == 0]\n",
        "plt.scatter(ldata[:, 2], ldata[:, 3], color='green')\n",
        "\n",
        "ldata = data[labels == 1]\n",
        "plt.scatter(ldata[:, 2], ldata[:, 3], color='red')\n",
        "\n",
        "ldata = data[labels == 2]\n",
        "plt.scatter(ldata[:, 2], ldata[:, 3], color='blue')\n",
        "\n",
        "plt.show()"
      ],
      "execution_count": null,
      "outputs": []
    },
    {
      "cell_type": "markdown",
      "metadata": {
        "id": "KxIsXv9_eDQi"
      },
      "source": [
        "# SVMを試す\n",
        "scikit-leanを利用して実装する。\n",
        "## データを作成\n",
        "iris-dataを学習用データとテストデータに分割する。train_test_split関数を利用して75%/25%に分ける。\n",
        "\n",
        "[train_test_split関数]\n",
        "\n",
        "|引数        |内容                                  |\n",
        "|------------|--------------------------------------|\n",
        "|第一引数    |特徴行列(X)                           |\n",
        "|第二引数    |目的変数(y)                           |\n",
        "|test_size   |テスト用のデータを何割の大きさにするか|\n",
        "|random_state|データを分割する際の乱数のシード値    |\n",
        "\n",
        "---\n",
        "## 参考\n",
        "- https://www.pc-koubou.jp/magazine/22439\n",
        "- https://qiita.com/Amtkxa/items/61d4316324c66b766ddf\n",
        "- https://scikit-learn.org/stable/auto_examples/linear_model/plot_iris_logistic.html#sphx-glr-auto-examples-linear-model-plot-iris-logistic-py"
      ]
    },
    {
      "cell_type": "code",
      "metadata": {
        "id": "OkavU6wXgaH5",
        "colab": {
          "base_uri": "https://localhost:8080/",
          "height": 34
        },
        "outputId": "91061b80-1b5a-4976-a4bb-3e105f70bd61"
      },
      "source": [
        "#4つの特徴量で分類\n",
        "\n",
        "from sklearn.datasets import load_iris\n",
        "from sklearn.model_selection import train_test_split\n",
        "from sklearn import svm\n",
        "\n",
        "#データを作成\n",
        "iris_dataset = load_iris()\n",
        "X_train, X_test, y_train, y_test = train_test_split(iris_dataset['data'], iris_dataset['target'], test_size=0.25,  random_state=0)\n",
        "\n",
        "#学習をさせる\n",
        "clf=svm.SVC(gamma=\"scale\") #classfication\n",
        "clf.fit(X_train, y_train)\n",
        "\n",
        "#テスト\n",
        "print('正解率',clf.score(X_test, y_test))"
      ],
      "execution_count": null,
      "outputs": [
        {
          "output_type": "stream",
          "text": [
            "正解率 0.9736842105263158\n"
          ],
          "name": "stdout"
        }
      ]
    },
    {
      "cell_type": "code",
      "metadata": {
        "id": "BI5uYJ2D1wNT",
        "colab": {
          "base_uri": "https://localhost:8080/",
          "height": 299
        },
        "outputId": "45577fd0-0b24-4dac-d1fe-16c33164894f"
      },
      "source": [
        "#2つずつの特徴量で分類\n",
        "\n",
        "from sklearn.datasets import load_iris\n",
        "from sklearn.model_selection import train_test_split\n",
        "from sklearn import svm\n",
        "import numpy as np\n",
        "import matplotlib.pyplot as plt\n",
        "\n",
        "#データを作成\n",
        "iris_dataset = load_iris()\n",
        "X = iris_dataset.data[:, [0, 1]] \n",
        "X_train, X_test, y_train, y_test = train_test_split(X, iris_dataset['target'], test_size=0.25,  random_state=0)\n",
        "\n",
        "#学習をさせる\n",
        "clf=svm.SVC(gamma=\"scale\") #classfication\n",
        "clf.fit(X_train, y_train)\n",
        "\n",
        "\n",
        "print('正解率',clf.score(X_test, y_test))\n",
        "\n",
        "# グラフの設定\n",
        "h = .02 \n",
        "x_min, x_max = X[:, 0].min() - .5, X[:, 0].max() + .5\n",
        "y_min, y_max = X[:, 1].min() - .5, X[:, 1].max() + .5\n",
        "xx, yy = np.meshgrid(np.arange(x_min, x_max, h), np.arange(y_min, y_max, h))\n",
        "\n",
        "Z = clf.predict(np.c_[xx.ravel(), yy.ravel()])\n",
        "# カラープロットへ\n",
        "Z = Z.reshape(xx.shape)\n",
        "plt.pcolormesh(xx, yy, Z, cmap=plt.cm.Paired)\n",
        "# プロット\n",
        "plt.scatter(X_test[:, 0], X_test[:, 1], c=y_test, edgecolors='k', cmap=plt.cm.Paired)\n"
      ],
      "execution_count": null,
      "outputs": [
        {
          "output_type": "stream",
          "text": [
            "正解率 0.7631578947368421\n"
          ],
          "name": "stdout"
        },
        {
          "output_type": "execute_result",
          "data": {
            "text/plain": [
              "<matplotlib.collections.PathCollection at 0x7fb6e3a36be0>"
            ]
          },
          "metadata": {
            "tags": []
          },
          "execution_count": 3
        },
        {
          "output_type": "display_data",
          "data": {
            "image/png": "[encoded data removed]",
            "text/plain": [
              "<Figure size 432x288 with 1 Axes>"
            ]
          },
          "metadata": {
            "tags": [],
            "needs_background": "light"
          }
        }
      ]
    }
  ]
}